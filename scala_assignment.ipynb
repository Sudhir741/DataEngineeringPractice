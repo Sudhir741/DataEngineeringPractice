{
 "cells": [
  {
   "cell_type": "code",
   "execution_count": 1,
   "id": "b9cf579d-04bb-4f52-a5b3-ebae29342c4e",
   "metadata": {},
   "outputs": [
    {
     "data": {
      "text/plain": [
       "Intitializing Scala interpreter ..."
      ]
     },
     "metadata": {},
     "output_type": "display_data"
    },
    {
     "data": {
      "text/plain": [
       "Spark Web UI available at http://172.19.47.132:4040\n",
       "SparkContext available as 'sc' (version = 3.5.2, master = local[*], app id = local-1725856433701)\n",
       "SparkSession available as 'spark'\n"
      ]
     },
     "metadata": {},
     "output_type": "display_data"
    },
    {
     "data": {
      "text/plain": [
       "array: Array[Int] = Array(1, 2, 3, 4, 5, 6, 7, 8, 9, 10)\r\n"
      ]
     },
     "execution_count": 1,
     "metadata": {},
     "output_type": "execute_result"
    }
   ],
   "source": [
    "/* 1 */\n",
    "val array = Array(1, 2, 3, 4, 5, 6, 7, 8, 9, 10)\n"
   ]
  },
  {
   "cell_type": "code",
   "execution_count": 15,
   "id": "0c87b4b9-e196-41f7-8af7-aebf8118667c",
   "metadata": {},
   "outputs": [
    {
     "name": "stdout",
     "output_type": "stream",
     "text": [
      "Sum: 55, Average: 5.5\n"
     ]
    },
    {
     "data": {
      "text/plain": [
       "sum: Int = 55\r\n",
       "average: Double = 5.5\r\n"
      ]
     },
     "execution_count": 15,
     "metadata": {},
     "output_type": "execute_result"
    }
   ],
   "source": [
    "val sum = array.sum\n",
    "val average = sum.toDouble / array.length\n",
    "println(s\"Sum: $sum, Average: $average\")\n"
   ]
  },
  {
   "cell_type": "code",
   "execution_count": 3,
   "id": "ec42bde9-8672-4758-a7e7-7c58ef4e80f4",
   "metadata": {},
   "outputs": [
    {
     "name": "stdout",
     "output_type": "stream",
     "text": [
      "Modified Array: 2, 4, 6, 8, 10, 12, 14, 16, 18, 20\n"
     ]
    },
    {
     "data": {
      "text/plain": [
       "modifiedArray: Array[Int] = Array(2, 4, 6, 8, 10, 12, 14, 16, 18, 20)\r\n"
      ]
     },
     "execution_count": 3,
     "metadata": {},
     "output_type": "execute_result"
    }
   ],
   "source": [
    "val modifiedArray = array.map(_ * 2)\n",
    "println(s\"Modified Array: ${modifiedArray.mkString(\", \")}\")\n"
   ]
  },
  {
   "cell_type": "code",
   "execution_count": 4,
   "id": "54ef30c9-bdda-4aff-aecb-842a8172a475",
   "metadata": {},
   "outputs": [
    {
     "name": "stdout",
     "output_type": "stream",
     "text": [
      "10, 9, 8, 7, 6, 5, 4, 3, 2, 1\n",
      "Maximum element: 10\n",
      "Minimum element: 1\n"
     ]
    },
    {
     "data": {
      "text/plain": [
       "array: Array[Int] = Array(1, 2, 3, 4, 5, 6, 7, 8, 9, 10)\r\n",
       "reversedArray: Array[Int] = Array(10, 9, 8, 7, 6, 5, 4, 3, 2, 1)\r\n",
       "maxElement: Int = 10\r\n",
       "minElement: Int = 1\r\n"
      ]
     },
     "execution_count": 4,
     "metadata": {},
     "output_type": "execute_result"
    }
   ],
   "source": [
    "/* 2 */\n",
    "val array = Array(1, 2, 3, 4, 5, 6, 7, 8, 9, 10)\n",
    "val reversedArray = array.reverse\n",
    "println(reversedArray.mkString(\", \"))\n",
    "\n",
    "\n",
    "val maxElement = array.max\n",
    "val minElement = array.min\n",
    "println(s\"Maximum element: $maxElement\")\n",
    "println(s\"Minimum element: $minElement\")\n"
   ]
  },
  {
   "cell_type": "code",
   "execution_count": 5,
   "id": "038e0518-95ee-4c44-be9c-82f5462dac05",
   "metadata": {},
   "outputs": [
    {
     "name": "stdout",
     "output_type": "stream",
     "text": [
      "Some(2)\n",
      "Some(2)\n",
      "Some(1)\n",
      "None\n"
     ]
    },
    {
     "data": {
      "text/plain": [
       "numbers: List[Int] = List(1, 2, 3, 4, 5, 6, 7, 8, 9, 10)\r\n",
       "evenNumbers: List[Int] = List(2, 4, 6, 8, 10)\r\n",
       "sumOfEvenNumbers: Int = 30\r\n",
       "defined object ListOperations\r\n",
       "defined class Stack\r\n",
       "stack: Stack[Int] = Stack@22bb9fd9\r\n"
      ]
     },
     "execution_count": 5,
     "metadata": {},
     "output_type": "execute_result"
    }
   ],
   "source": [
    "/* Collections */\n",
    "\n",
    "/*LIST */\n",
    "val numbers = List(1, 2, 3, 4, 5, 6, 7, 8, 9, 10)\n",
    "\n",
    "val evenNumbers = numbers.filter(_ % 2 == 0)\n",
    "\n",
    "val sumOfEvenNumbers = evenNumbers.sum\n",
    "\n",
    "object ListOperations extends App {\n",
    "  val numbers = List(1, 2, 3, 4, 5, 6, 7, 8, 9, 10)\n",
    "  val evenNumbers = numbers.filter(_ % 2 == 0)\n",
    "  val sumOfEvenNumbers = evenNumbers.sum\n",
    "\n",
    "  println(s\"Original list: $numbers\")\n",
    "  println(s\"Filtered even numbers: $evenNumbers\")\n",
    "  println(s\"Sum of even numbers: $sumOfEvenNumbers\")\n",
    "}\n",
    "\n",
    "/* -------------------------- */\n",
    "class Stack[A] {\n",
    "  private var elements: List[A] = Nil\n",
    "\n",
    "  def push(item: A): Unit = {\n",
    "    elements = item :: elements\n",
    "  }\n",
    "\n",
    "  def pop(): Option[A] = {\n",
    "    elements match {\n",
    "      case Nil => None\n",
    "      case head :: tail =>\n",
    "        elements = tail\n",
    "        Some(head)\n",
    "    }\n",
    "  }\n",
    "\n",
    "  def peek: Option[A] = {\n",
    "    elements.headOption\n",
    "  }\n",
    "\n",
    "  def isEmpty: Boolean = elements.isEmpty\n",
    "}\n",
    "\n",
    "// Example usage:\n",
    "val stack = new Stack[Int]\n",
    "stack.push(1)\n",
    "stack.push(2)\n",
    "println(stack.peek) // Some(2)\n",
    "println(stack.pop()) // Some(2)\n",
    "println(stack.pop()) // Some(1)\n",
    "println(stack.pop()) // None\n",
    "\n"
   ]
  },
  {
   "cell_type": "code",
   "execution_count": 10,
   "id": "5baa9693-ddb7-4a34-9b60-fb5138a917bb",
   "metadata": {},
   "outputs": [
    {
     "name": "stdout",
     "output_type": "stream",
     "text": [
      "Some(2)\n",
      "Some(2)\n",
      "Some(1)\n",
      "None\n"
     ]
    },
    {
     "data": {
      "text/plain": [
       "defined class Stack\r\n",
       "stack: Stack[Int] = Stack@6967f7e3\r\n"
      ]
     },
     "execution_count": 10,
     "metadata": {},
     "output_type": "execute_result"
    }
   ],
   "source": [
    "\n",
    "/* -------------------------- */\n",
    "class Stack[A] {\n",
    "  private var elements: List[A] = Nil\n",
    "\n",
    "  def push(item: A): Unit = {\n",
    "    elements = item :: elements\n",
    "  }\n",
    "\n",
    "  def pop(): Option[A] = {\n",
    "    elements match {\n",
    "      case Nil => None\n",
    "      case head :: tail =>\n",
    "        elements = tail\n",
    "        Some(head)\n",
    "    }\n",
    "  }\n",
    "\n",
    "  def peek: Option[A] = {\n",
    "    elements.headOption\n",
    "  }\n",
    "\n",
    "  def isEmpty: Boolean = elements.isEmpty\n",
    "}\n",
    "\n",
    "// Example usage:\n",
    "val stack = new Stack[Int]\n",
    "stack.push(1)\n",
    "stack.push(2)\n",
    "println(stack.peek) // Some(2)\n",
    "println(stack.pop()) // Some(2)\n",
    "println(stack.pop()) // Some(1)\n",
    "println(stack.pop()) // None\n",
    "\n"
   ]
  },
  {
   "cell_type": "code",
   "execution_count": 6,
   "id": "ba008093-dc7b-4795-a40e-6141c30d9725",
   "metadata": {},
   "outputs": [
    {
     "data": {
      "text/plain": [
       "defined object CountryCapitalMap\r\n"
      ]
     },
     "execution_count": 6,
     "metadata": {},
     "output_type": "execute_result"
    }
   ],
   "source": [
    "/* MAP */\n",
    "object CountryCapitalMap {\n",
    "  def main(args: Array[String]): Unit = {\n",
    "    // Create a Map to store 5 country-capital pairs\n",
    "    val countryCapitalMap = Map(\n",
    "      \"Canada\" -> \"Ottawa\",\n",
    "      \"India\" -> \"New Delhi\",\n",
    "      \"Germany\" -> \"Berlin\",\n",
    "      \"South Korea\" -> \"Seoul\",\n",
    "      \"South Africa\" -> \"Pretoria\"\n",
    ")\n",
    "\n",
    "\n",
    "    // Function to check if a given key (country) exists in the map\n",
    "    def checkCountry(country: String): Unit = {\n",
    "      if (countryCapitalMap.contains(country)) {\n",
    "        println(s\"The capital of $country is ${countryCapitalMap(country)}.\")\n",
    "      } else {\n",
    "        println(s\"$country is not in the map.\")\n",
    "      }\n",
    "    }\n",
    "\n",
    "    // Test the function\n",
    "    checkCountry(\"India\")\n",
    "    checkCountry(\"Brazil\")\n",
    "  }\n",
    "}\n"
   ]
  },
  {
   "cell_type": "code",
   "execution_count": 7,
   "id": "17c099e2-8fd7-4e72-a3aa-0312518f9f5a",
   "metadata": {},
   "outputs": [
    {
     "data": {
      "text/plain": [
       "defined trait Shape\r\n",
       "defined class Circle\r\n",
       "defined class Rectangle\r\n",
       "defined object Main\r\n"
      ]
     },
     "execution_count": 7,
     "metadata": {},
     "output_type": "execute_result"
    }
   ],
   "source": [
    "/*SCALA TRAITS */\n",
    "\n",
    "// Define the Shape trait\n",
    "trait Shape {\n",
    "  def area(): Double\n",
    "  def perimeter(): Double\n",
    "}\n",
    "\n",
    "// Implement the Circle class\n",
    "class Circle(val radius: Double) extends Shape {\n",
    "  override def area(): Double = Math.PI * radius * radius\n",
    "  override def perimeter(): Double = 2 * Math.PI * radius\n",
    "}\n",
    "\n",
    "// Implement the Rectangle class\n",
    "class Rectangle(val length: Double, val width: Double) extends Shape {\n",
    "  override def area(): Double = length * width\n",
    "  override def perimeter(): Double = 2 * (length + width)\n",
    "}\n",
    "\n",
    "// Main object to test the classes\n",
    "object Main extends App {\n",
    "  val circle = new Circle(5)\n",
    "  val rectangle = new Rectangle(4, 6)\n",
    "\n",
    "  println(s\"Circle Area: ${circle.area()}\")\n",
    "  println(s\"Circle Perimeter: ${circle.perimeter()}\")\n",
    "  println(s\"Rectangle Area: ${rectangle.area()}\")\n",
    "  println(s\"Rectangle Perimeter: ${rectangle.perimeter()}\")\n",
    "}\n"
   ]
  },
  {
   "cell_type": "code",
   "execution_count": 8,
   "id": "7a51718d-e459-4da6-afd2-fe4591e2bc1e",
   "metadata": {},
   "outputs": [
    {
     "data": {
      "text/plain": [
       "defined class Animal\r\n",
       "defined class Dog\r\n",
       "defined class Bird\r\n",
       "defined object Main\r\n"
      ]
     },
     "execution_count": 8,
     "metadata": {},
     "output_type": "execute_result"
    }
   ],
   "source": [
    "/* OOP SCALA */\n",
    "\n",
    "/* CLASSES  AND INHERITANCE */\n",
    "abstract class Animal {\n",
    "  def speak(): Unit\n",
    "  def move(): Unit\n",
    "}\n",
    "\n",
    "class Dog extends Animal {\n",
    "  override def speak(): Unit = {\n",
    "    println(\"Woof!\")\n",
    "  }\n",
    "\n",
    "  override def move(): Unit = {\n",
    "    println(\"The dog runs.\")\n",
    "  }\n",
    "}\n",
    "\n",
    "class Bird extends Animal {\n",
    "  override def speak(): Unit = {\n",
    "    println(\"Chirp!\")\n",
    "  }\n",
    "\n",
    "  override def move(): Unit = {\n",
    "    println(\"The bird flies.\")\n",
    "  }\n",
    "}\n",
    "\n",
    "object Main extends App {\n",
    "  val dog = new Dog\n",
    "  val bird = new Bird\n",
    "\n",
    "  dog.speak()\n",
    "  dog.move()\n",
    "\n",
    "  bird.speak()\n",
    "  bird.move()\n",
    "}\n",
    "\n"
   ]
  },
  {
   "cell_type": "code",
   "execution_count": 9,
   "id": "16ac78b9-2220-4c6e-9ba9-6c932310964e",
   "metadata": {},
   "outputs": [
    {
     "name": "stdout",
     "output_type": "stream",
     "text": [
      "Deposited $amount. New balance: $balance\n",
      "Withdrew $amount. New balance: $balance\n",
      "Current balance: $balance\n"
     ]
    },
    {
     "data": {
      "text/plain": [
       "defined class BankAccount\r\n",
       "account: BankAccount = BankAccount@68b6b84a\r\n"
      ]
     },
     "execution_count": 9,
     "metadata": {},
     "output_type": "execute_result"
    }
   ],
   "source": [
    "/* ENCAPSULATION */\n",
    "\n",
    "class BankAccount(private var accountNumber: String, private var balance: Double) {\n",
    "\n",
    "  // Method to deposit money\n",
    "  def deposit(amount: Double): Unit = {\n",
    "    if (amount > 0) {\n",
    "      balance += amount\n",
    "      println(s\"Deposited $$amount. New balance: $$balance\")\n",
    "    } else {\n",
    "      println(\"Deposit amount must be positive.\")\n",
    "    }\n",
    "  }\n",
    "\n",
    "  // Method to withdraw money\n",
    "  def withdraw(amount: Double): Unit = {\n",
    "    if (amount > 0 && amount <= balance) {\n",
    "      balance -= amount\n",
    "      println(s\"Withdrew $$amount. New balance: $$balance\")\n",
    "    } else if (amount > balance) {\n",
    "      println(\"Insufficient balance.\")\n",
    "    } else {\n",
    "      println(\"Withdrawal amount must be positive.\")\n",
    "    }\n",
    "  }\n",
    "\n",
    "  // Method to display the current balance\n",
    "  def displayBalance(): Unit = {\n",
    "    println(s\"Current balance: $$balance\")\n",
    "  }\n",
    "}\n",
    "\n",
    "// Example usage\n",
    "val account = new BankAccount(\"1234567890\", 1000.0)\n",
    "account.deposit(500.0)\n",
    "account.withdraw(200.0)\n",
    "account.displayBalance()\n"
   ]
  }
 ],
 "metadata": {
  "kernelspec": {
   "display_name": "spylon-kernel",
   "language": "scala",
   "name": "spylon-kernel"
  },
  "language_info": {
   "codemirror_mode": "text/x-scala",
   "file_extension": ".scala",
   "help_links": [
    {
     "text": "MetaKernel Magics",
     "url": "https://metakernel.readthedocs.io/en/latest/source/README.html"
    }
   ],
   "mimetype": "text/x-scala",
   "name": "scala",
   "pygments_lexer": "scala",
   "version": "0.4.1"
  }
 },
 "nbformat": 4,
 "nbformat_minor": 5
}
